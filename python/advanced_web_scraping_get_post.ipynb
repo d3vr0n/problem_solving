{
 "cells": [
  {
   "cell_type": "code",
   "execution_count": 1,
   "metadata": {},
   "outputs": [
    {
     "name": "stdout",
     "output_type": "stream",
     "text": [
      "Requirement already satisfied: beautifulsoup4 in c:\\users\\achara6\\appdata\\local\\continuum\\anaconda3\\lib\\site-packages (4.8.0)\n",
      "Requirement already satisfied: soupsieve>=1.2 in c:\\users\\achara6\\appdata\\local\\continuum\\anaconda3\\lib\\site-packages (from beautifulsoup4) (1.9.3)\n",
      "Note: you may need to restart the kernel to use updated packages.\n"
     ]
    }
   ],
   "source": [
    "pip install beautifulsoup4"
   ]
  },
  {
   "cell_type": "code",
   "execution_count": 3,
   "metadata": {},
   "outputs": [
    {
     "name": "stdout",
     "output_type": "stream",
     "text": [
      "Requirement already satisfied: requests in c:\\users\\achara6\\appdata\\local\\continuum\\anaconda3\\lib\\site-packages (2.22.0)\n",
      "Requirement already satisfied: idna<2.9,>=2.5 in c:\\users\\achara6\\appdata\\local\\continuum\\anaconda3\\lib\\site-packages (from requests) (2.8)\n",
      "Requirement already satisfied: chardet<3.1.0,>=3.0.2 in c:\\users\\achara6\\appdata\\local\\continuum\\anaconda3\\lib\\site-packages (from requests) (3.0.4)\n",
      "Requirement already satisfied: urllib3!=1.25.0,!=1.25.1,<1.26,>=1.21.1 in c:\\users\\achara6\\appdata\\local\\continuum\\anaconda3\\lib\\site-packages (from requests) (1.24.2)\n",
      "Requirement already satisfied: certifi>=2017.4.17 in c:\\users\\achara6\\appdata\\local\\continuum\\anaconda3\\lib\\site-packages (from requests) (2019.9.11)\n",
      "Note: you may need to restart the kernel to use updated packages.\n"
     ]
    }
   ],
   "source": [
    "pip install requests"
   ]
  },
  {
   "cell_type": "code",
   "execution_count": 4,
   "metadata": {},
   "outputs": [
    {
     "name": "stdout",
     "output_type": "stream",
     "text": [
      "Collecting selenium\n",
      "  Downloading https://files.pythonhosted.org/packages/80/d6/4294f0b4bce4de0abf13e17190289f9d0613b0a44e5dd6a7f5ca98459853/selenium-3.141.0-py2.py3-none-any.whl (904kB)\n",
      "Requirement already satisfied: urllib3 in c:\\users\\achara6\\appdata\\local\\continuum\\anaconda3\\lib\\site-packages (from selenium) (1.24.2)\n",
      "Installing collected packages: selenium\n",
      "Successfully installed selenium-3.141.0\n",
      "Note: you may need to restart the kernel to use updated packages.\n"
     ]
    }
   ],
   "source": [
    "pip install selenium\n",
    "# https://chromedriver.chromium.org/downloads\n",
    "# download chrome driver"
   ]
  },
  {
   "cell_type": "code",
   "execution_count": 8,
   "metadata": {},
   "outputs": [],
   "source": [
    "import requests\n",
    "from bs4 import BeautifulSoup"
   ]
  },
  {
   "cell_type": "code",
   "execution_count": 9,
   "metadata": {},
   "outputs": [],
   "source": [
    "content = requests.get(\"https://www.imdb.com/find?q=mark&s=nm&exact=true&ref_=fn_al_nm_ex\")"
   ]
  },
  {
   "cell_type": "code",
   "execution_count": 10,
   "metadata": {},
   "outputs": [],
   "source": [
    "doc = BeautifulSoup(content.text,'html.parser')"
   ]
  },
  {
   "cell_type": "code",
   "execution_count": 13,
   "metadata": {},
   "outputs": [
    {
     "name": "stdout",
     "output_type": "stream",
     "text": [
      "Mark Hamill\n",
      "Mark Lindsay Chapman\n",
      "Mark Borchardt\n",
      "Mark Krenik\n",
      "Mark Wright\n",
      "Mark Ballas\n",
      "Mark Long\n",
      "Mark Adderley\n",
      "Mark Ramsey\n",
      "Mark Hudson\n",
      "Mark Munoz\n",
      "Mark Cruickshank\n",
      "Mark Rogers\n",
      "Mark Caruso\n",
      "Mark Wright Sr.\n",
      "Matt Markham\n",
      "Mark\n",
      "Mark Rhodes\n",
      "Mark Dumas\n",
      "Mark Marek\n",
      "Mark Houghton\n",
      "Mark\n",
      "Mark Tuan\n",
      "Mark McCullough\n",
      "Mark Yturralde\n",
      "Mark Philpot\n",
      "Markivus Nious\n",
      "Mark Blockovich\n",
      "Mike Bloom\n",
      "Mark Vernal\n",
      "Mark Jenkins\n",
      "Mariusz Kotowski\n",
      "Mark Pickston\n",
      "Mark Kelley\n",
      "Mark East\n",
      "Shellie Marie Shartzer\n",
      "Mark\n",
      "Joseph M. Teminsky\n",
      "Markus Schaub\n",
      "Mark Huckabone\n",
      "Marco A. David\n",
      "Mark Bell\n",
      "Mark Margason\n",
      "Mark Klabin\n",
      "Mark Moar\n",
      "Parveen Mark\n",
      "Marcus Chenoweth\n",
      "Mark Morency\n",
      "Mark Paras\n",
      "Marques Pardue\n",
      "Mark\n",
      "Mark Sutherland\n",
      "Mark Schroeder\n",
      "Mark Drelich\n",
      "Mark Lim\n",
      "Mark Frazier\n",
      "Mark\n",
      "Marcos Vidal\n",
      "Mark Ganter\n",
      "Anthony Hoyes\n",
      "Mark Thomas\n",
      "Mark\n",
      "Mark\n",
      "Mark\n",
      "Mark Nagle\n",
      "Mark\n",
      "Mark\n",
      "Mark\n",
      "Mark\n",
      "Mark\n",
      "Mark\n",
      "Mark Ludford\n",
      "Mark\n",
      "Mark\n",
      "Mark\n",
      "Mark\n",
      "Mark\n",
      "Mark\n",
      "Mark\n",
      "Mark\n",
      "Mark\n",
      "Mark\n",
      "David Streeter\n",
      "Mark\n",
      "Mark\n",
      "Mark\n",
      "Mark Cruz\n",
      "Mark\n",
      "Mark Huebner\n",
      "Mark\n",
      "Mark\n",
      "Mark\n",
      "Mark\n",
      "Mark\n",
      "Mark\n",
      "Mark\n",
      "Marcus Moore\n",
      "Mark Held\n",
      "Mark Shire\n",
      "Martin O'Connor\n",
      "Mark\n",
      "Mark\n",
      "Mark Yenter\n",
      "Mark\n",
      "Mark\n",
      "Mark Byron\n",
      "Mark\n",
      "Mark Rosenberg\n",
      "Mark Schaub\n",
      "Erickson Ellaga\n",
      "Marko Panzic\n",
      "Mark\n",
      "Mark\n",
      "Mark\n",
      "Mark Moskovitz\n",
      "Mark\n",
      "LeMarquis Goods II\n",
      "Mark\n",
      "Mark\n",
      "Mark\n",
      "Sheng-Chien Tsai\n",
      "Mark\n",
      "Mark\n",
      "Mark\n",
      "Mark\n",
      "Mark\n",
      "Mark\n",
      "Mark O'Connor\n",
      "Mark\n",
      "Mark\n",
      "Mark\n",
      "Mark\n",
      "Mark\n",
      "Fernando Mark Paiz\n",
      "Mark Eisenhardt\n",
      "Mark\n",
      "Mark\n",
      "Jenny Harada\n",
      "Mark\n",
      "Mark\n",
      "Mark Hasche\n",
      "Mark\n",
      "Mark\n",
      "Mark\n",
      "Mark\n",
      "Mark\n",
      "Mark\n",
      "Mark\n",
      "Mark\n",
      "Mark Callow\n",
      "Mark\n",
      "Mark\n",
      "Mark Manning\n",
      "Mark Deuber\n",
      "Mark\n",
      "Mark\n",
      "Mark\n",
      "Mark\n",
      "Mark\n",
      "Mark\n",
      "Mark Schild\n",
      "Mark\n",
      "Mark\n",
      "Mark\n",
      "Mark\n",
      "Mark\n",
      "Mark\n",
      "Mark Hoban\n",
      "Mark\n",
      "Mark\n",
      "Mark Wagner\n",
      "Mark\n",
      "Mark\n",
      "Mark\n",
      "Mark Jackson\n",
      "Mark\n",
      "Mark\n",
      "Mark\n",
      "Mark\n",
      "Mark\n",
      "Michael Calacino\n",
      "Mark\n",
      "Mark\n",
      "Mark\n",
      "Mark\n",
      "Mark Bowyer\n",
      "Mark\n",
      "Mark\n",
      "Mark\n",
      "Mark Luz\n",
      "Mark\n",
      "Mark\n",
      "Mark\n",
      "Mark Lotenberg\n",
      "Mark\n",
      "Mark\n",
      "Mark Lambrecht\n",
      "Mark\n",
      "Mark\n"
     ]
    }
   ],
   "source": [
    "# Grab all the titles\n",
    "name_tags = doc.find_all(class_=\"result_text\")\n",
    "\n",
    "#Lets print the first 5\n",
    "for name in name_tags:\n",
    "    print(name.a.string)"
   ]
  },
  {
   "cell_type": "markdown",
   "metadata": {},
   "source": [
    "# Submitting POST forms"
   ]
  },
  {
   "cell_type": "code",
   "execution_count": 14,
   "metadata": {},
   "outputs": [],
   "source": [
    "data = {\n",
    "    'lastName': 'Kelly',\n",
    "    'firstName': 'John',\n",
    "    'boardCode': '9',\n",
    "    'licenseNumber':'',\n",
    "    'licenseType':'250',\n",
    "    'registryNumber':''\n",
    "}\n",
    "url = \"https://search.dca.ca.gov/results\""
   ]
  },
  {
   "cell_type": "code",
   "execution_count": 15,
   "metadata": {},
   "outputs": [
    {
     "name": "stdout",
     "output_type": "stream",
     "text": [
      "KELLY, JOHN M \n",
      "KELLY, JOHN R \n",
      "KELLY, JOHN ROBERT \n",
      "KELLY, JOSEPH C \n",
      "KELLEY, JOHN P \n",
      "KELSEY, JOHN HENRY \n",
      "CALI, JOHN S \n",
      "COLLIAS, JOHN CHRISTOPHER \n"
     ]
    }
   ],
   "source": [
    "response = requests.post(url,data=data)\n",
    "doc = BeautifulSoup(response.text, 'html.parser')\n",
    "\n",
    "#Grabbing all the name tags\n",
    "name_tags = doc.find_all(\"h3\")\n",
    "\n",
    "#Lets print the first 5\n",
    "for name in name_tags:\n",
    "    print(name.text)"
   ]
  },
  {
   "cell_type": "code",
   "execution_count": null,
   "metadata": {},
   "outputs": [],
   "source": []
  }
 ],
 "metadata": {
  "kernelspec": {
   "display_name": "Python 3",
   "language": "python",
   "name": "python3"
  },
  "language_info": {
   "codemirror_mode": {
    "name": "ipython",
    "version": 3
   },
   "file_extension": ".py",
   "mimetype": "text/x-python",
   "name": "python",
   "nbconvert_exporter": "python",
   "pygments_lexer": "ipython3",
   "version": "3.7.4"
  }
 },
 "nbformat": 4,
 "nbformat_minor": 2
}
