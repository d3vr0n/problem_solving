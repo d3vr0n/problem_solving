{
 "cells": [
  {
   "cell_type": "markdown",
   "metadata": {},
   "source": [
    "# Button INput Value\n"
   ]
  },
  {
   "cell_type": "code",
   "execution_count": 2,
   "metadata": {},
   "outputs": [],
   "source": [
    "from selenium import webdriver\n",
    "from selenium.webdriver.common.by import By\n",
    "from selenium.webdriver.chrome.options import Options\n",
    "from selenium.webdriver.support.ui import WebDriverWait\n",
    "from selenium.webdriver.support import expected_conditions as EC\n",
    "from selenium.webdriver.support.ui import Select"
   ]
  },
  {
   "cell_type": "code",
   "execution_count": 3,
   "metadata": {},
   "outputs": [],
   "source": [
    "# adding options\n",
    "chromeOptions = Options()\n",
    "chromeOptions.add_argument(\"--kiosk\")"
   ]
  },
  {
   "cell_type": "code",
   "execution_count": 7,
   "metadata": {},
   "outputs": [],
   "source": [
    "# opening the webpage\n",
    "\n",
    "driver = webdriver.Chrome(\"C:/apps/chromedriver_win32/chromedriver.exe\", options=chromeOptions)\n",
    "\n",
    "driver.get(\"http://automationpractice.com/index.php?controller=authentication&back=my-account\")"
   ]
  },
  {
   "cell_type": "code",
   "execution_count": 8,
   "metadata": {},
   "outputs": [],
   "source": [
    "# webdriver wait\n",
    "element = WebDriverWait(driver,10).until(EC.element_to_be_clickable((By.NAME, \"email_create\")))"
   ]
  },
  {
   "cell_type": "code",
   "execution_count": 9,
   "metadata": {},
   "outputs": [],
   "source": [
    "# email submit\n",
    "\n",
    "dest_search = driver.find_element_by_name(\"email_create\")\n",
    "dest_search.clear()\n",
    "dest_search.send_keys(\"test_user@live.com\")\n",
    "\n",
    "# clicking  on the create account button\n",
    "submit_button = driver.find_element_by_xpath(\"//button[@id='SubmitCreate']\")\n",
    "submit_button.click()"
   ]
  },
  {
   "cell_type": "markdown",
   "metadata": {},
   "source": [
    "# Filling your information"
   ]
  },
  {
   "cell_type": "markdown",
   "metadata": {},
   "source": [
    "## 1st section\n"
   ]
  },
  {
   "cell_type": "code",
   "execution_count": 10,
   "metadata": {},
   "outputs": [],
   "source": [
    "# radio button\n",
    "radio_button_male = driver.find_element_by_id(\"id_gender1\")\n",
    "radio_button_male.click()"
   ]
  },
  {
   "cell_type": "code",
   "execution_count": 11,
   "metadata": {},
   "outputs": [],
   "source": [
    "# account info\n",
    "\n",
    "first_name = driver.find_element_by_id(\"customer_firstname\")\n",
    "first_name.send_keys(\"customer1\")\n",
    "\n",
    "last_name = driver.find_element_by_id(\"customer_lastname\")\n",
    "last_name.send_keys(\"lastname2\")\n",
    "\n",
    "password = driver.find_element_by_id(\"passwd\")\n",
    "password.send_keys(\"pwn3d\")\n",
    "# dropdown\n",
    "dob_date = Select(driver.find_element_by_id(\"days\"))\n",
    "dob_date.select_by_value('10')\n",
    "\n",
    "dob_month = Select(driver.find_element_by_id(\"months\"))\n",
    "dob_month.select_by_visible_text('May ')\n",
    "\n",
    "dob_year = Select(driver.find_element_by_id(\"years\"))\n",
    "dob_year.select_by_value('2000')\n",
    "\n",
    "# checkbox\n",
    "newsletter = driver.find_element_by_id(\"newsletter\")\n",
    "newsletter.click()"
   ]
  },
  {
   "cell_type": "markdown",
   "metadata": {},
   "source": [
    "## 2nd section"
   ]
  },
  {
   "cell_type": "code",
   "execution_count": 13,
   "metadata": {},
   "outputs": [],
   "source": [
    "first_name_2 = driver.find_element_by_id(\"firstname\")\n",
    "first_name_2.send_keys(\"Test121\")\n",
    "\n",
    "last_name_2 = driver.find_element_by_id(\"customer_lastname\")\n",
    "last_name_2.send_keys(\"lastname2\")\n",
    "\n",
    "address = driver.find_element_by_id(\"address1\")\n",
    "address.send_keys(\"101 main st\")\n",
    "city = driver.find_element_by_id(\"city\")\n",
    "city.send_keys(\"New City\")\n",
    "state = Select(driver.find_element_by_id(\"id_state\"))\n",
    "state.select_by_visible_text('Alabama')\n",
    "postcode = driver.find_element_by_id(\"postcode\")\n",
    "postcode.send_keys(\"50084\")\n",
    "mob_phone = driver.find_element_by_id(\"phone_mobile\")\n",
    "mob_phone.send_keys(\"9876598520\")\n",
    "alias_addr = driver.find_element_by_id(\"alias\")\n",
    "alias_addr.send_keys(\"Office\")\n",
    "\n",
    "reg_button = driver.find_element_by_xpath(\"//*[@id='submitAccount']\").click()\n"
   ]
  },
  {
   "cell_type": "code",
   "execution_count": null,
   "metadata": {},
   "outputs": [],
   "source": []
  }
 ],
 "metadata": {
  "kernelspec": {
   "display_name": "Python 3",
   "language": "python",
   "name": "python3"
  },
  "language_info": {
   "codemirror_mode": {
    "name": "ipython",
    "version": 3
   },
   "file_extension": ".py",
   "mimetype": "text/x-python",
   "name": "python",
   "nbconvert_exporter": "python",
   "pygments_lexer": "ipython3",
   "version": "3.7.4"
  }
 },
 "nbformat": 4,
 "nbformat_minor": 2
}
